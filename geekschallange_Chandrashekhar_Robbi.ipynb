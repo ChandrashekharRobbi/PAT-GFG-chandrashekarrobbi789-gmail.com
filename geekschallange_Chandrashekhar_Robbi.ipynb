{
  "nbformat": 4,
  "nbformat_minor": 0,
  "metadata": {
    "colab": {
      "provenance": []
    },
    "kernelspec": {
      "name": "python3",
      "display_name": "Python 3"
    },
    "language_info": {
      "name": "python"
    }
  },
  "cells": [
    {
      "cell_type": "markdown",
      "source": [
        "# We are going to predict:\n",
        "> `if the customer is going to honor the reservation or cancel it`\n",
        "\n",
        "we are going to use the dataset: `Hostel Reservation.csv`\n",
        "\n",
        "The file contains the different attributes of customers' reservation details. The detailed data\n",
        "dictionary is given below.\n",
        "Data Dictionary\n",
        "* Booking_ID: unique identifier of each booking\n",
        "* no_of_adults: Number of adults\n",
        "* no_of_children: Number of Children\n",
        "* no_of_weekend_nights: Number of weekend nights (Saturday or Sunday) the guest\n",
        "stayed or booked to stay at the hotel\n",
        "* no_of_week_nights: Number of week nights (Monday to Friday) the guest stayed or\n",
        "booked to stay at the hotel\n",
        "* type_of_meal_plan: Type of meal plan booked by the customer:\n",
        "* required_car_parking_space: Does the customer require a car parking space? (0 -\n",
        "No, 1- Yes)\n",
        "* room_type_reserved: Type of room reserved by the customer. The values are\n",
        "ciphered (encoded) by INN Hotels.\n",
        "* lead_time: Number of days between the date of booking and the arrival date\n",
        "* arrival_year: Year of arrival date\n",
        "* arrival_month: Month of arrival date\n",
        "* arrival_date: Date of the month\n",
        "* market_segment_type: Market segment designation.\n",
        "* repeated_guest: Is the customer a repeated guest? (0 - No, 1- Yes)\n",
        "* no_of_previous_cancellations: Number of previous bookings that were canceled by\n",
        "the customer prior to the current booking\n",
        "* no_of_previous_bookings_not_canceled: Number of previous bookings not canceled\n",
        "by the customer prior to the current booking\n",
        "* avg_price_per_room: Average price per day of the reservation; prices of the rooms are\n",
        "dynamic. (in euros)\n",
        "* no_of_special_requests: Total number of special requests made by the customer (e.g.\n",
        "high floor, view from the room, etc)\n",
        "* booking_status: Flag indicating if the booking was canceled or not."
      ],
      "metadata": {
        "id": "slysk79eLJUP"
      }
    },
    {
      "cell_type": "markdown",
      "source": [
        "# Import all Necessary Libraries"
      ],
      "metadata": {
        "id": "EDv7kf9wJtll"
      }
    },
    {
      "cell_type": "code",
      "source": [
        "import pandas as pd\n",
        "from sklearn.model_selection import train_test_split\n",
        "from sklearn.preprocessing import OneHotEncoder, LabelEncoder\n",
        "from sklearn.compose import ColumnTransformer\n",
        "from sklearn.pipeline import Pipeline\n",
        "from sklearn.ensemble import RandomForestClassifier\n",
        "from sklearn.metrics import accuracy_score, classification_report"
      ],
      "metadata": {
        "id": "HkaeoMW9Jswu"
      },
      "execution_count": 35,
      "outputs": []
    },
    {
      "cell_type": "markdown",
      "source": [
        "## Import the dataset\n",
        "  * Load the dataset\n",
        "  * Drop Booking Id for dimensionality reduction technique"
      ],
      "metadata": {
        "id": "liIfveAaJ0EO"
      }
    },
    {
      "cell_type": "code",
      "source": [
        "\n",
        "data = pd.read_csv('Hotel Reservations.csv')\n",
        "\n",
        "data = data.drop('Booking_ID', axis=1)"
      ],
      "metadata": {
        "id": "3WSiuIHzGmop"
      },
      "execution_count": 36,
      "outputs": []
    },
    {
      "cell_type": "markdown",
      "source": [
        "## Separate features and target variable"
      ],
      "metadata": {
        "id": "ByJuzVgvKdl5"
      }
    },
    {
      "cell_type": "code",
      "source": [
        "X = data.drop('booking_status', axis=1)\n",
        "y = data['booking_status']"
      ],
      "metadata": {
        "id": "A6dZZYCDJZNl"
      },
      "execution_count": 37,
      "outputs": []
    },
    {
      "cell_type": "markdown",
      "source": [
        "## Convert booking_status into dummy variables using label encoding"
      ],
      "metadata": {
        "id": "FjfIEMO1KiVi"
      }
    },
    {
      "cell_type": "code",
      "source": [
        "label_encoder = LabelEncoder()\n",
        "y = label_encoder.fit_transform(y)"
      ],
      "metadata": {
        "id": "Be0GjVBwJ_c2"
      },
      "execution_count": 38,
      "outputs": []
    },
    {
      "cell_type": "markdown",
      "source": [
        "## Split the data into train and test sets"
      ],
      "metadata": {
        "id": "IvTRtXLVKknS"
      }
    },
    {
      "cell_type": "code",
      "source": [
        "X_train, X_test, y_train, y_test = train_test_split(X, y, test_size=0.2, random_state=42)"
      ],
      "metadata": {
        "id": "7pF_i0iTKDFf"
      },
      "execution_count": 39,
      "outputs": []
    },
    {
      "cell_type": "markdown",
      "source": [
        "## Define the columns to be one-hot encoded"
      ],
      "metadata": {
        "id": "m9xuPlOnKnrz"
      }
    },
    {
      "cell_type": "code",
      "source": [
        "categorical_cols = ['type_of_meal_plan', 'room_type_reserved', 'market_segment_type']"
      ],
      "metadata": {
        "id": "CcRon0RpKFkQ"
      },
      "execution_count": 40,
      "outputs": []
    },
    {
      "cell_type": "markdown",
      "source": [
        "## Create a transformer for one-hot encoding"
      ],
      "metadata": {
        "id": "8XMSOiTfKsmr"
      }
    },
    {
      "cell_type": "code",
      "source": [
        "preprocessor = ColumnTransformer(\n",
        "    transformers=[('cat', OneHotEncoder(), categorical_cols)],\n",
        "    remainder='passthrough'\n",
        ")"
      ],
      "metadata": {
        "id": "-6H-ijzxKrGb"
      },
      "execution_count": 41,
      "outputs": []
    },
    {
      "cell_type": "markdown",
      "source": [
        "## Define the model pipeline"
      ],
      "metadata": {
        "id": "-m7CnJI3KxY0"
      }
    },
    {
      "cell_type": "code",
      "source": [
        "model = Pipeline([\n",
        "    ('preprocessor', preprocessor),\n",
        "    ('classifier', RandomForestClassifier(random_state=42))\n",
        "])"
      ],
      "metadata": {
        "id": "NwxAMcb6KIIA"
      },
      "execution_count": 42,
      "outputs": []
    },
    {
      "cell_type": "markdown",
      "source": [
        "## Fit the model on the training data"
      ],
      "metadata": {
        "id": "KDpzEHEXK0Mr"
      }
    },
    {
      "cell_type": "code",
      "source": [
        "model.fit(X_train, y_train)"
      ],
      "metadata": {
        "colab": {
          "base_uri": "https://localhost:8080/",
          "height": 191
        },
        "id": "32sSY3qCKJqH",
        "outputId": "d214b47b-c140-44ee-fd7f-2712f1d43552"
      },
      "execution_count": 43,
      "outputs": [
        {
          "output_type": "execute_result",
          "data": {
            "text/plain": [
              "Pipeline(steps=[('preprocessor',\n",
              "                 ColumnTransformer(remainder='passthrough',\n",
              "                                   transformers=[('cat', OneHotEncoder(),\n",
              "                                                  ['type_of_meal_plan',\n",
              "                                                   'room_type_reserved',\n",
              "                                                   'market_segment_type'])])),\n",
              "                ('classifier', RandomForestClassifier(random_state=42))])"
            ],
            "text/html": [
              "<style>#sk-container-id-1 {color: black;background-color: white;}#sk-container-id-1 pre{padding: 0;}#sk-container-id-1 div.sk-toggleable {background-color: white;}#sk-container-id-1 label.sk-toggleable__label {cursor: pointer;display: block;width: 100%;margin-bottom: 0;padding: 0.3em;box-sizing: border-box;text-align: center;}#sk-container-id-1 label.sk-toggleable__label-arrow:before {content: \"▸\";float: left;margin-right: 0.25em;color: #696969;}#sk-container-id-1 label.sk-toggleable__label-arrow:hover:before {color: black;}#sk-container-id-1 div.sk-estimator:hover label.sk-toggleable__label-arrow:before {color: black;}#sk-container-id-1 div.sk-toggleable__content {max-height: 0;max-width: 0;overflow: hidden;text-align: left;background-color: #f0f8ff;}#sk-container-id-1 div.sk-toggleable__content pre {margin: 0.2em;color: black;border-radius: 0.25em;background-color: #f0f8ff;}#sk-container-id-1 input.sk-toggleable__control:checked~div.sk-toggleable__content {max-height: 200px;max-width: 100%;overflow: auto;}#sk-container-id-1 input.sk-toggleable__control:checked~label.sk-toggleable__label-arrow:before {content: \"▾\";}#sk-container-id-1 div.sk-estimator input.sk-toggleable__control:checked~label.sk-toggleable__label {background-color: #d4ebff;}#sk-container-id-1 div.sk-label input.sk-toggleable__control:checked~label.sk-toggleable__label {background-color: #d4ebff;}#sk-container-id-1 input.sk-hidden--visually {border: 0;clip: rect(1px 1px 1px 1px);clip: rect(1px, 1px, 1px, 1px);height: 1px;margin: -1px;overflow: hidden;padding: 0;position: absolute;width: 1px;}#sk-container-id-1 div.sk-estimator {font-family: monospace;background-color: #f0f8ff;border: 1px dotted black;border-radius: 0.25em;box-sizing: border-box;margin-bottom: 0.5em;}#sk-container-id-1 div.sk-estimator:hover {background-color: #d4ebff;}#sk-container-id-1 div.sk-parallel-item::after {content: \"\";width: 100%;border-bottom: 1px solid gray;flex-grow: 1;}#sk-container-id-1 div.sk-label:hover label.sk-toggleable__label {background-color: #d4ebff;}#sk-container-id-1 div.sk-serial::before {content: \"\";position: absolute;border-left: 1px solid gray;box-sizing: border-box;top: 0;bottom: 0;left: 50%;z-index: 0;}#sk-container-id-1 div.sk-serial {display: flex;flex-direction: column;align-items: center;background-color: white;padding-right: 0.2em;padding-left: 0.2em;position: relative;}#sk-container-id-1 div.sk-item {position: relative;z-index: 1;}#sk-container-id-1 div.sk-parallel {display: flex;align-items: stretch;justify-content: center;background-color: white;position: relative;}#sk-container-id-1 div.sk-item::before, #sk-container-id-1 div.sk-parallel-item::before {content: \"\";position: absolute;border-left: 1px solid gray;box-sizing: border-box;top: 0;bottom: 0;left: 50%;z-index: -1;}#sk-container-id-1 div.sk-parallel-item {display: flex;flex-direction: column;z-index: 1;position: relative;background-color: white;}#sk-container-id-1 div.sk-parallel-item:first-child::after {align-self: flex-end;width: 50%;}#sk-container-id-1 div.sk-parallel-item:last-child::after {align-self: flex-start;width: 50%;}#sk-container-id-1 div.sk-parallel-item:only-child::after {width: 0;}#sk-container-id-1 div.sk-dashed-wrapped {border: 1px dashed gray;margin: 0 0.4em 0.5em 0.4em;box-sizing: border-box;padding-bottom: 0.4em;background-color: white;}#sk-container-id-1 div.sk-label label {font-family: monospace;font-weight: bold;display: inline-block;line-height: 1.2em;}#sk-container-id-1 div.sk-label-container {text-align: center;}#sk-container-id-1 div.sk-container {/* jupyter's `normalize.less` sets `[hidden] { display: none; }` but bootstrap.min.css set `[hidden] { display: none !important; }` so we also need the `!important` here to be able to override the default hidden behavior on the sphinx rendered scikit-learn.org. See: https://github.com/scikit-learn/scikit-learn/issues/21755 */display: inline-block !important;position: relative;}#sk-container-id-1 div.sk-text-repr-fallback {display: none;}</style><div id=\"sk-container-id-1\" class=\"sk-top-container\"><div class=\"sk-text-repr-fallback\"><pre>Pipeline(steps=[(&#x27;preprocessor&#x27;,\n",
              "                 ColumnTransformer(remainder=&#x27;passthrough&#x27;,\n",
              "                                   transformers=[(&#x27;cat&#x27;, OneHotEncoder(),\n",
              "                                                  [&#x27;type_of_meal_plan&#x27;,\n",
              "                                                   &#x27;room_type_reserved&#x27;,\n",
              "                                                   &#x27;market_segment_type&#x27;])])),\n",
              "                (&#x27;classifier&#x27;, RandomForestClassifier(random_state=42))])</pre><b>In a Jupyter environment, please rerun this cell to show the HTML representation or trust the notebook. <br />On GitHub, the HTML representation is unable to render, please try loading this page with nbviewer.org.</b></div><div class=\"sk-container\" hidden><div class=\"sk-item sk-dashed-wrapped\"><div class=\"sk-label-container\"><div class=\"sk-label sk-toggleable\"><input class=\"sk-toggleable__control sk-hidden--visually\" id=\"sk-estimator-id-1\" type=\"checkbox\" ><label for=\"sk-estimator-id-1\" class=\"sk-toggleable__label sk-toggleable__label-arrow\">Pipeline</label><div class=\"sk-toggleable__content\"><pre>Pipeline(steps=[(&#x27;preprocessor&#x27;,\n",
              "                 ColumnTransformer(remainder=&#x27;passthrough&#x27;,\n",
              "                                   transformers=[(&#x27;cat&#x27;, OneHotEncoder(),\n",
              "                                                  [&#x27;type_of_meal_plan&#x27;,\n",
              "                                                   &#x27;room_type_reserved&#x27;,\n",
              "                                                   &#x27;market_segment_type&#x27;])])),\n",
              "                (&#x27;classifier&#x27;, RandomForestClassifier(random_state=42))])</pre></div></div></div><div class=\"sk-serial\"><div class=\"sk-item sk-dashed-wrapped\"><div class=\"sk-label-container\"><div class=\"sk-label sk-toggleable\"><input class=\"sk-toggleable__control sk-hidden--visually\" id=\"sk-estimator-id-2\" type=\"checkbox\" ><label for=\"sk-estimator-id-2\" class=\"sk-toggleable__label sk-toggleable__label-arrow\">preprocessor: ColumnTransformer</label><div class=\"sk-toggleable__content\"><pre>ColumnTransformer(remainder=&#x27;passthrough&#x27;,\n",
              "                  transformers=[(&#x27;cat&#x27;, OneHotEncoder(),\n",
              "                                 [&#x27;type_of_meal_plan&#x27;, &#x27;room_type_reserved&#x27;,\n",
              "                                  &#x27;market_segment_type&#x27;])])</pre></div></div></div><div class=\"sk-parallel\"><div class=\"sk-parallel-item\"><div class=\"sk-item\"><div class=\"sk-label-container\"><div class=\"sk-label sk-toggleable\"><input class=\"sk-toggleable__control sk-hidden--visually\" id=\"sk-estimator-id-3\" type=\"checkbox\" ><label for=\"sk-estimator-id-3\" class=\"sk-toggleable__label sk-toggleable__label-arrow\">cat</label><div class=\"sk-toggleable__content\"><pre>[&#x27;type_of_meal_plan&#x27;, &#x27;room_type_reserved&#x27;, &#x27;market_segment_type&#x27;]</pre></div></div></div><div class=\"sk-serial\"><div class=\"sk-item\"><div class=\"sk-estimator sk-toggleable\"><input class=\"sk-toggleable__control sk-hidden--visually\" id=\"sk-estimator-id-4\" type=\"checkbox\" ><label for=\"sk-estimator-id-4\" class=\"sk-toggleable__label sk-toggleable__label-arrow\">OneHotEncoder</label><div class=\"sk-toggleable__content\"><pre>OneHotEncoder()</pre></div></div></div></div></div></div><div class=\"sk-parallel-item\"><div class=\"sk-item\"><div class=\"sk-label-container\"><div class=\"sk-label sk-toggleable\"><input class=\"sk-toggleable__control sk-hidden--visually\" id=\"sk-estimator-id-5\" type=\"checkbox\" ><label for=\"sk-estimator-id-5\" class=\"sk-toggleable__label sk-toggleable__label-arrow\">remainder</label><div class=\"sk-toggleable__content\"><pre>[&#x27;no_of_adults&#x27;, &#x27;no_of_children&#x27;, &#x27;no_of_weekend_nights&#x27;, &#x27;no_of_week_nights&#x27;, &#x27;required_car_parking_space&#x27;, &#x27;lead_time&#x27;, &#x27;arrival_year&#x27;, &#x27;arrival_month&#x27;, &#x27;arrival_date&#x27;, &#x27;repeated_guest&#x27;, &#x27;no_of_previous_cancellations&#x27;, &#x27;no_of_previous_bookings_not_canceled&#x27;, &#x27;avg_price_per_room&#x27;, &#x27;no_of_special_requests&#x27;]</pre></div></div></div><div class=\"sk-serial\"><div class=\"sk-item\"><div class=\"sk-estimator sk-toggleable\"><input class=\"sk-toggleable__control sk-hidden--visually\" id=\"sk-estimator-id-6\" type=\"checkbox\" ><label for=\"sk-estimator-id-6\" class=\"sk-toggleable__label sk-toggleable__label-arrow\">passthrough</label><div class=\"sk-toggleable__content\"><pre>passthrough</pre></div></div></div></div></div></div></div></div><div class=\"sk-item\"><div class=\"sk-estimator sk-toggleable\"><input class=\"sk-toggleable__control sk-hidden--visually\" id=\"sk-estimator-id-7\" type=\"checkbox\" ><label for=\"sk-estimator-id-7\" class=\"sk-toggleable__label sk-toggleable__label-arrow\">RandomForestClassifier</label><div class=\"sk-toggleable__content\"><pre>RandomForestClassifier(random_state=42)</pre></div></div></div></div></div></div></div>"
            ]
          },
          "metadata": {},
          "execution_count": 43
        }
      ]
    },
    {
      "cell_type": "markdown",
      "source": [
        "## Make predictions on the test data"
      ],
      "metadata": {
        "id": "Ibq8Dd4UK4Qk"
      }
    },
    {
      "cell_type": "code",
      "source": [
        "y_pred = model.predict(X_test)"
      ],
      "metadata": {
        "id": "_2S8R3-SKK45"
      },
      "execution_count": 44,
      "outputs": []
    },
    {
      "cell_type": "markdown",
      "source": [
        "## Evaluate the model"
      ],
      "metadata": {
        "id": "Yjgckf1yK7w1"
      }
    },
    {
      "cell_type": "code",
      "source": [
        "accuracy = accuracy_score(y_test, y_pred)\n",
        "classification_report = classification_report(y_test, y_pred)"
      ],
      "metadata": {
        "id": "2cHDdLZDKM93"
      },
      "execution_count": 45,
      "outputs": []
    },
    {
      "cell_type": "markdown",
      "source": [
        "## Print the evaluation metrics"
      ],
      "metadata": {
        "id": "HNj1R0WIK-CU"
      }
    },
    {
      "cell_type": "code",
      "source": [
        "print(f\"Accuracy: {accuracy}\")\n",
        "print(f\"Classification Report:\\n{classification_report}\")"
      ],
      "metadata": {
        "colab": {
          "base_uri": "https://localhost:8080/"
        },
        "id": "jaMuBqkrKM3v",
        "outputId": "93a5339e-aadb-47e3-b4cf-fb5becaa3390"
      },
      "execution_count": 46,
      "outputs": [
        {
          "output_type": "stream",
          "name": "stdout",
          "text": [
            "Accuracy: 0.9044796691936595\n",
            "Classification Report:\n",
            "              precision    recall  f1-score   support\n",
            "\n",
            "           0       0.89      0.82      0.85      2416\n",
            "           1       0.91      0.95      0.93      4839\n",
            "\n",
            "    accuracy                           0.90      7255\n",
            "   macro avg       0.90      0.88      0.89      7255\n",
            "weighted avg       0.90      0.90      0.90      7255\n",
            "\n"
          ]
        }
      ]
    },
    {
      "cell_type": "markdown",
      "source": [
        "## Import pickle to save the model"
      ],
      "metadata": {
        "id": "G7QcljfzL9m0"
      }
    },
    {
      "cell_type": "code",
      "source": [
        "import pickle"
      ],
      "metadata": {
        "id": "b33IMy9mL5vL"
      },
      "execution_count": 47,
      "outputs": []
    },
    {
      "cell_type": "markdown",
      "source": [
        "## save the model or in pickle language `dump` the model"
      ],
      "metadata": {
        "id": "YV2pVF_8MDgk"
      }
    },
    {
      "cell_type": "code",
      "source": [
        "with open('geekschallange_Chandrashekhar_Robbi.pkl', 'wb') as f:\n",
        "  pickle.dump(model, f)"
      ],
      "metadata": {
        "id": "cf3BrIwYMALx"
      },
      "execution_count": 50,
      "outputs": []
    }
  ]
}